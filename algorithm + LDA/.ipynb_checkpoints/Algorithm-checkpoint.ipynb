{
 "cells": [
  {
   "cell_type": "markdown",
   "metadata": {},
   "source": [
    "# Algorithm"
   ]
  },
  {
   "cell_type": "markdown",
   "metadata": {},
   "source": [
    "### What algorithms do we need?\n",
    "\n",
    "1.\tConcept $\\rightarrow$ Problem \n",
    "\n",
    "    1.\trecommendation\n",
    "\n",
    "1.\tProblem $\\rightarrow$ Concept  \n",
    "\n",
    "    1.\tidentify\n",
    "\n",
    "    1.\tprioritization\n",
    "\n",
    "1.\tConcept $\\rightarrow$ Concept \n",
    "\n",
    "    1.\trelationship\n",
    "\n",
    "1. Problem $\\rightarrow$ Problem\n",
    "    1. recommendation\n"
   ]
  },
  {
   "cell_type": "markdown",
   "metadata": {},
   "source": [
    "### 3A\n",
    "\n",
    "We know the backlinks and forwardlinks of a concept\n",
    "\n",
    "\n",
    "\n"
   ]
  },
  {
   "cell_type": "markdown",
   "metadata": {},
   "source": [
    "**Distance definition**\n",
    "\n",
    "Minkowski distance\n",
    "\n",
    "$$\n",
    "dist(X, Y) = \\left( \\sum_{i=1}^n |x_i - y_i|^p \\right)^{\\frac{1}{p}}\n",
    "$$\n",
    "\n",
    "\n",
    "Jaccard similarity coefficient $\\surd$\n",
    "\n",
    "$$\n",
    "J(A,B) = \\frac{|A \\cap B|}{|A \\cup B|}\n",
    "$$\n",
    "\n",
    "\n",
    "Pearson correlation coefficient\n",
    "\n",
    "$$\n",
    "\\rho_{XY} = \\frac{\\sum_{i=1}^n (X_i - \\mu_X)(Y_i - \\mu_Y)}{\\sqrt{\\sum_{i=1}^n (X_i - \\mu_X)^2}\\sqrt{\\sum_{i=1}^n (Y_i - \\mu_Y)^2}}\n",
    "$$"
   ]
  },
  {
   "cell_type": "markdown",
   "metadata": {},
   "source": [
    "## A complete procedure\n",
    "\n",
    "* Datasets\n",
    "\n",
    "    * **concepts_list**\n",
    "        * A list of concepts, and their meanings\n",
    "    * **questions_list**\n",
    "        * A list of questions, with their question ID, and some other information like year and author\n",
    "    * **concepts_matrix**\n",
    "        * The relationship among all the concepts, using 1 as forward link and -1 as backward link\n",
    "    * **questions_concepts_matrix**\n",
    "        * If a concept is mensioned in a question, assign 1. If not, assign 0.\n",
    "    \n",
    "\n",
    "\n",
    "* Query a question\n",
    "\n",
    "    1. User import a image or pdf\n",
    "        1. Use OCR to convert it into text\n",
    "        1. Process data \n",
    "    \n",
    "    1. Match the question with our **concepts_list**\n",
    "        1. If a concept is included, assign 1. If not, assign 0.\n",
    "        1. For all the concepts included, find a path in **concepts_matrix**\n",
    "        1. Print out the path and concepts\n",
    "        \n",
    "    1. Recommend similar questions.\n",
    "        1. For all the questions in the **questions_list**, calculate the distance between them and the target question.\n",
    "        1. Print out the ones have minimal distance.\n",
    "\n",
    "\n",
    "\n",
    "* Query concepts\n",
    "\n",
    "    1. User import several concepts\n",
    "        1. Give dynamic suggestions\n",
    "        \n",
    "    1. Print out the questions including these concepts\n",
    "    \n",
    "    \n",
    "\n",
    "\n",
    "* Add a question\n",
    "    \n",
    "    1. User import a image or pdf\n",
    "        1. Use OCR to vonvert it into text(Latex?)\n",
    "    \n",
    "    1. Detect the concepts in the question\n",
    "    \n",
    "    1. Assign rights to user to edit the text and concepts\n",
    "    \n",
    "    \n",
    "* Add a concept\n",
    "\n",
    "    1. User import a concept\n",
    "        1. Give similar concepts suggestions\n",
    "        \n",
    "    1. Assign rights to user to edit the concept and its meaning\n",
    "    \n",
    "    1. Assign rights to user to choose the backlink and forwardlink of that concept\n",
    "\n",
    "\n",
    "\n",
    "\n",
    "        "
   ]
  },
  {
   "cell_type": "markdown",
   "metadata": {},
   "source": [
    "https://www.nltk.org/data.html"
   ]
  },
  {
   "cell_type": "markdown",
   "metadata": {},
   "source": [
    "### 1. User: Input a image or pdf\n",
    "\n",
    "* OCR\n",
    "* NLP: stopwords, punctuation... (Math?)"
   ]
  },
  {
   "cell_type": "code",
   "execution_count": null,
   "metadata": {},
   "outputs": [],
   "source": [
    "from PIL import Image\n",
    "import pytesseract as pt\n",
    "import numpy as np\n",
    "import pandas as pd\n",
    "\n",
    "import nltk\n",
    "from nltk.tokenize import word_tokenize\n",
    "from collections import Counter\n",
    "#nltk.download('wordnet')      #download if using this module for the first time\n",
    "\n",
    "from nltk.stem import WordNetLemmatizer \n",
    "from nltk.corpus import stopwords\n",
    "#nltk.download('stopwords')    #download if using this module for the first time\n",
    "\n",
    "#For Gensim\n",
    "import gensim\n",
    "import string\n",
    "from gensim import corpora\n",
    "from gensim.corpora.dictionary import Dictionary\n",
    "from nltk.tokenize import word_tokenize"
   ]
  },
  {
   "cell_type": "code",
   "execution_count": null,
   "metadata": {},
   "outputs": [],
   "source": [
    "# OCR converts image to text\n",
    "\n",
    "img1 = Image.open(\"images/image1.png\")\n",
    "ques1 = pt.image_to_string(img1)\n",
    "print(ques1)"
   ]
  },
  {
   "cell_type": "code",
   "execution_count": null,
   "metadata": {},
   "outputs": [],
   "source": [
    "# Process data\n",
    "\n",
    "stopwords = set(stopwords.words('english'))\n",
    "exclude = set(string.punctuation)\n",
    "lemma = WordNetLemmatizer()\n",
    "\n",
    "def clean(document):\n",
    "    stopwordremoval = \" \".join([i for i in document.lower().split() if i not in stopwords])\n",
    "    punctuationremoval = ''.join(ch for ch in stopwordremoval if ch not in exclude)\n",
    "    normalized = \" \".join(lemma.lemmatize(word) for word in punctuationremoval.split())\n",
    "    return normalized\n"
   ]
  },
  {
   "cell_type": "code",
   "execution_count": null,
   "metadata": {},
   "outputs": [],
   "source": [
    "sample1 = \"Our board of directors boasts 11 seasoned technology and business leaders from Adobe, GSK, HGGC and more.\"\n",
    "sample2 = \"Our executives lead by example and guide us to accomplish great things every day.\"\n",
    "sample3 = \"Working at Pluralisght means being surrounded by smart, passionate people who inspire us to do our best work.\"\n",
    "sample4 = \"A leadership team with vision.\"\n",
    "sample5 = \"Courses on cloud, microservices, machine learning, security, Agile and more.\"\n",
    "sample6 = \"Interactive courses and projects.\"\n",
    "sample7 = \"Personalized course recommendations from Iris.\"\n",
    "sample8 = \"We’re excited to announce that Pluralsight has ranked #9 on the Great Place to Work 2018, Best Medium Workplaces list!\"\n",
    "sample9 = \"Few of the job opportunities include Implementation Consultant - Analytics, Manager - assessment production, Chief Information Officer, Director of Communications.\"\n",
    "\n",
    "# compile documents\n",
    "compileddoc = [sample1, sample2, sample3, sample4, sample5, sample6, sample7, sample8, sample9] \n",
    "\n",
    "final_doc = [clean(document).split() for document in compileddoc]\n",
    "print(\"Before text-cleaning:\", compileddoc[0]) "
   ]
  },
  {
   "cell_type": "code",
   "execution_count": 4,
   "metadata": {},
   "outputs": [
    {
     "ename": "NameError",
     "evalue": "name 'final_doc' is not defined",
     "output_type": "error",
     "traceback": [
      "\u001b[1;31m---------------------------------------------------------------------------\u001b[0m",
      "\u001b[1;31mNameError\u001b[0m                                 Traceback (most recent call last)",
      "\u001b[1;32m<ipython-input-4-2327c26813a9>\u001b[0m in \u001b[0;36m<module>\u001b[1;34m\u001b[0m\n\u001b[1;32m----> 1\u001b[1;33m \u001b[0mprint\u001b[0m\u001b[1;33m(\u001b[0m\u001b[1;34m\"After text-cleaning:\"\u001b[0m\u001b[1;33m,\u001b[0m\u001b[0mfinal_doc\u001b[0m\u001b[1;33m[\u001b[0m\u001b[1;36m0\u001b[0m\u001b[1;33m]\u001b[0m\u001b[1;33m)\u001b[0m\u001b[1;33m\u001b[0m\u001b[1;33m\u001b[0m\u001b[0m\n\u001b[0m",
      "\u001b[1;31mNameError\u001b[0m: name 'final_doc' is not defined"
     ]
    }
   ],
   "source": [
    "print(\"After text-cleaning:\",final_doc[0])"
   ]
  },
  {
   "cell_type": "markdown",
   "metadata": {},
   "source": [
    "### 2. Match the question with our **concepts_list**"
   ]
  },
  {
   "cell_type": "code",
   "execution_count": null,
   "metadata": {},
   "outputs": [],
   "source": []
  }
 ],
 "metadata": {
  "kernelspec": {
   "display_name": "Python 3",
   "language": "python",
   "name": "python3"
  },
  "language_info": {
   "codemirror_mode": {
    "name": "ipython",
    "version": 3
   },
   "file_extension": ".py",
   "mimetype": "text/x-python",
   "name": "python",
   "nbconvert_exporter": "python",
   "pygments_lexer": "ipython3",
   "version": "3.7.3"
  }
 },
 "nbformat": 4,
 "nbformat_minor": 4
}
